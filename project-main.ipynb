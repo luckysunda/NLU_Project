{
 "cells": [
  {
   "cell_type": "code",
   "execution_count": 307,
   "metadata": {},
   "outputs": [],
   "source": [
    "#---------------------------------importing libaries ------------------------------------------#\n",
    "import numpy as np\n",
    "import json\n",
    "import pandas as pd\n",
    "import ast\n",
    "import os\n",
    "import torch\n",
    "import torch.nn as nn\n",
    "import torch.nn.functional as F\n",
    "import torch.nn.init as init\n",
    "from torch.autograd import Variable\n",
    "from torch.utils.data import DataLoader\n"
   ]
  },
  {
   "cell_type": "code",
   "execution_count": 511,
   "metadata": {},
   "outputs": [],
   "source": [
    "#------------------------------------Loading dataset --------------------------------------#\n",
    "def load_dataset():\n",
    "    with open('datasets/dataset.json') as json_file:  \n",
    "        data = json.load(json_file)\n",
    "    #print(type(data['21717']))\n",
    "    #print(type(data))\n",
    "    labels=[]\n",
    "    for line in data['21717']:\n",
    "        labels.append(line)\n",
    "    ids=[]\n",
    "    for ide in data.keys():\n",
    "        ids.append(ide)\n",
    "    return data"
   ]
  },
  {
   "cell_type": "code",
   "execution_count": 513,
   "metadata": {},
   "outputs": [],
   "source": [
    "def load_kb():\n",
    "    #-------------------------Loading Knowledge base ---------------------------#\n",
    "    facts=pd.read_csv(\"datasets/KGfacts/KGfacts-CloseWorld.csv\", error_bad_lines=False)\n",
    "    facts.columns=[\"entity\",\"relation\",\"attribute\"]\n",
    "    \n",
    "    #----------------Loading mapping between Qids and entities -----------------#\n",
    "    df = pd.read_csv('datasets/KGfacts/Qid-NamedEntityMapping.csv',sep='\\t',error_bad_lines=False, encoding='ascii')\n",
    "    df.columns=[\"id\",\"name\"]\n",
    "    names=df[\"name\"].apply(ast.literal_eval).apply(bytes.decode)\n",
    "    df[\"name\"]=list(names)\n",
    "    mapping=df\n",
    "    return facts,mapping"
   ]
  },
  {
   "cell_type": "code",
   "execution_count": 514,
   "metadata": {},
   "outputs": [],
   "source": [
    "def get_facts(NamedEntity):\n",
    "    fc=[]\n",
    "    for entity in NamedEntity:\n",
    "        qid=mapping[mapping['name']==entity]\n",
    "        ide=qid[\"id\"]\n",
    "        ide=pd.DataFrame(ide)\n",
    "    #print(ide)\n",
    "        s_find=str(ide['id']).split(\"\\n\")[0]\n",
    "        index=s_find.find(\"Q\")\n",
    "        s_find=s_find[index:]\n",
    "    #print(s_find)\n",
    "        rel_facts=facts[facts['entity']==s_find]\n",
    "    #print(rel_facts)\n",
    "        rel_facts_list=[]\n",
    "        for index,fact in rel_facts.iterrows():\n",
    "            rel_facts_list.append([fact[\"entity\"],fact[\"relation\"],fact[\"attribute\"]])    \n",
    "    #print(rel_facts_list)\n",
    "        rel=[]\n",
    "        for fact in rel_facts_list:\n",
    "            rel.append(\" \".join(fact))\n",
    "    #print(rel)\n",
    "        rel1=[]\n",
    "        for fact in rel:\n",
    "            rel1.append(fact.split(\" \"))\n",
    "        fc+=rel1\n",
    "    return(fc)\n",
    "    "
   ]
  },
  {
   "cell_type": "code",
   "execution_count": 515,
   "metadata": {},
   "outputs": [],
   "source": [
    "def get_emb_facts(rel_facts):\n",
    "    embedded_facts=[]\n",
    "    for fact in rel_facts:\n",
    "        em=[]\n",
    "        for word in fact:  \n",
    "            if word in embeddings_index:    \n",
    "                em.append( embeddings_index[word])     \n",
    "        embedded_facts.append(em)\n",
    "    return embedded_facts"
   ]
  },
  {
   "cell_type": "code",
   "execution_count": 516,
   "metadata": {},
   "outputs": [],
   "source": [
    "def  get_final_avg(embedded_facts):\n",
    "    embedded_facts_arr=[]\n",
    "    for fact in embedded_facts:\n",
    "        embedded_facts_arr.append(np.array(fact))\n",
    "    embedded_facts_arr=np.array(embedded_facts_arr)\n",
    "    embedded_facts_arr_avg=[]\n",
    "    for fact in embedded_facts_arr:\n",
    "        embedded_facts_arr_avg.append(np.mean(fact,axis=0))\n",
    "    embedded_facts_arr_avg=np.array(embedded_facts_arr_avg)\n",
    "    return embedded_facts_arr_avg\n"
   ]
  },
  {
   "cell_type": "code",
   "execution_count": 517,
   "metadata": {},
   "outputs": [],
   "source": [
    "def load_embedding_matrix():\n",
    "    embeddings_index = {}\n",
    "    f = open('glove.6B.100d.txt')\n",
    "    for line in f:\n",
    "        values = line.split(' ')\n",
    "        word = values[0] ## The first entry is the word\n",
    "        coefs = np.asarray(values[1:], dtype='float32') ## These are the vecotrs representing the embedding for the word\n",
    "        embeddings_index[word] = coefs\n",
    "    f.close()\n",
    "    print('GloVe data loaded') \n",
    "    return embeddings_index\n",
    "    \n",
    "    "
   ]
  },
  {
   "cell_type": "code",
   "execution_count": 518,
   "metadata": {
    "collapsed": true
   },
   "outputs": [
    {
     "name": "stderr",
     "output_type": "stream",
     "text": [
      "b'Skipping line 17: expected 3 fields, saw 4\\nSkipping line 54: expected 3 fields, saw 4\\nSkipping line 187: expected 3 fields, saw 4\\nSkipping line 245: expected 3 fields, saw 4\\nSkipping line 299: expected 3 fields, saw 4\\nSkipping line 333: expected 3 fields, saw 4\\nSkipping line 391: expected 3 fields, saw 4\\nSkipping line 416: expected 3 fields, saw 4\\nSkipping line 422: expected 3 fields, saw 4\\nSkipping line 432: expected 3 fields, saw 4\\nSkipping line 527: expected 3 fields, saw 4\\nSkipping line 554: expected 3 fields, saw 4\\nSkipping line 660: expected 3 fields, saw 4\\nSkipping line 661: expected 3 fields, saw 4\\nSkipping line 706: expected 3 fields, saw 4\\nSkipping line 820: expected 3 fields, saw 4\\nSkipping line 825: expected 3 fields, saw 5\\nSkipping line 833: expected 3 fields, saw 4\\nSkipping line 887: expected 3 fields, saw 4\\nSkipping line 932: expected 3 fields, saw 4\\nSkipping line 947: expected 3 fields, saw 4\\nSkipping line 996: expected 3 fields, saw 4\\nSkipping line 1007: expected 3 fields, saw 4\\nSkipping line 1018: expected 3 fields, saw 4\\nSkipping line 1138: expected 3 fields, saw 4\\nSkipping line 1185: expected 3 fields, saw 4\\nSkipping line 1206: expected 3 fields, saw 4\\nSkipping line 1272: expected 3 fields, saw 4\\nSkipping line 1333: expected 3 fields, saw 4\\nSkipping line 1357: expected 3 fields, saw 4\\nSkipping line 1362: expected 3 fields, saw 4\\nSkipping line 1479: expected 3 fields, saw 4\\nSkipping line 1486: expected 3 fields, saw 4\\nSkipping line 1556: expected 3 fields, saw 4\\nSkipping line 1566: expected 3 fields, saw 4\\nSkipping line 1607: expected 3 fields, saw 4\\nSkipping line 1653: expected 3 fields, saw 4\\nSkipping line 1727: expected 3 fields, saw 4\\nSkipping line 1746: expected 3 fields, saw 4\\nSkipping line 1769: expected 3 fields, saw 4\\nSkipping line 1804: expected 3 fields, saw 4\\nSkipping line 1827: expected 3 fields, saw 4\\nSkipping line 1870: expected 3 fields, saw 4\\nSkipping line 1871: expected 3 fields, saw 4\\nSkipping line 1873: expected 3 fields, saw 4\\nSkipping line 1985: expected 3 fields, saw 4\\nSkipping line 1993: expected 3 fields, saw 4\\nSkipping line 1994: expected 3 fields, saw 4\\nSkipping line 2083: expected 3 fields, saw 4\\nSkipping line 2139: expected 3 fields, saw 4\\nSkipping line 2177: expected 3 fields, saw 4\\nSkipping line 2205: expected 3 fields, saw 4\\nSkipping line 2247: expected 3 fields, saw 4\\nSkipping line 2323: expected 3 fields, saw 4\\nSkipping line 2328: expected 3 fields, saw 4\\nSkipping line 2334: expected 3 fields, saw 4\\nSkipping line 2360: expected 3 fields, saw 4\\nSkipping line 2395: expected 3 fields, saw 4\\nSkipping line 2422: expected 3 fields, saw 4\\nSkipping line 2423: expected 3 fields, saw 4\\nSkipping line 2426: expected 3 fields, saw 4\\nSkipping line 2443: expected 3 fields, saw 4\\nSkipping line 2466: expected 3 fields, saw 4\\nSkipping line 2468: expected 3 fields, saw 4\\nSkipping line 2486: expected 3 fields, saw 4\\nSkipping line 2624: expected 3 fields, saw 4\\nSkipping line 2647: expected 3 fields, saw 4\\nSkipping line 2917: expected 3 fields, saw 4\\nSkipping line 2919: expected 3 fields, saw 4\\nSkipping line 2938: expected 3 fields, saw 4\\nSkipping line 3015: expected 3 fields, saw 4\\nSkipping line 3038: expected 3 fields, saw 4\\nSkipping line 3071: expected 3 fields, saw 4\\nSkipping line 3147: expected 3 fields, saw 4\\nSkipping line 3187: expected 3 fields, saw 4\\nSkipping line 3220: expected 3 fields, saw 4\\nSkipping line 3269: expected 3 fields, saw 4\\nSkipping line 3318: expected 3 fields, saw 4\\nSkipping line 3379: expected 3 fields, saw 4\\nSkipping line 3388: expected 3 fields, saw 4\\nSkipping line 3407: expected 3 fields, saw 4\\nSkipping line 3434: expected 3 fields, saw 4\\nSkipping line 3455: expected 3 fields, saw 4\\nSkipping line 3528: expected 3 fields, saw 4\\nSkipping line 3592: expected 3 fields, saw 4\\nSkipping line 3614: expected 3 fields, saw 4\\nSkipping line 3626: expected 3 fields, saw 4\\nSkipping line 3627: expected 3 fields, saw 4\\nSkipping line 3635: expected 3 fields, saw 4\\nSkipping line 3674: expected 3 fields, saw 4\\nSkipping line 3852: expected 3 fields, saw 4\\nSkipping line 3923: expected 3 fields, saw 4\\nSkipping line 3938: expected 3 fields, saw 4\\nSkipping line 3974: expected 3 fields, saw 5\\nSkipping line 3982: expected 3 fields, saw 4\\nSkipping line 4076: expected 3 fields, saw 4\\nSkipping line 4158: expected 3 fields, saw 4\\nSkipping line 4180: expected 3 fields, saw 4\\nSkipping line 4221: expected 3 fields, saw 4\\nSkipping line 4289: expected 3 fields, saw 4\\nSkipping line 4300: expected 3 fields, saw 4\\nSkipping line 4306: expected 3 fields, saw 4\\nSkipping line 4387: expected 3 fields, saw 4\\nSkipping line 4441: expected 3 fields, saw 4\\nSkipping line 4462: expected 3 fields, saw 4\\nSkipping line 4486: expected 3 fields, saw 4\\nSkipping line 4621: expected 3 fields, saw 4\\nSkipping line 4658: expected 3 fields, saw 4\\nSkipping line 4684: expected 3 fields, saw 4\\nSkipping line 4781: expected 3 fields, saw 4\\nSkipping line 4789: expected 3 fields, saw 4\\nSkipping line 4803: expected 3 fields, saw 4\\nSkipping line 4825: expected 3 fields, saw 4\\nSkipping line 4858: expected 3 fields, saw 4\\nSkipping line 4932: expected 3 fields, saw 4\\nSkipping line 4956: expected 3 fields, saw 4\\nSkipping line 4998: expected 3 fields, saw 4\\nSkipping line 5036: expected 3 fields, saw 4\\nSkipping line 5075: expected 3 fields, saw 4\\nSkipping line 5104: expected 3 fields, saw 4\\nSkipping line 5129: expected 3 fields, saw 4\\nSkipping line 5136: expected 3 fields, saw 4\\nSkipping line 5166: expected 3 fields, saw 4\\nSkipping line 5170: expected 3 fields, saw 4\\nSkipping line 5313: expected 3 fields, saw 4\\nSkipping line 5364: expected 3 fields, saw 4\\nSkipping line 5435: expected 3 fields, saw 4\\nSkipping line 5465: expected 3 fields, saw 4\\nSkipping line 5492: expected 3 fields, saw 4\\nSkipping line 5505: expected 3 fields, saw 4\\nSkipping line 5552: expected 3 fields, saw 4\\nSkipping line 5609: expected 3 fields, saw 4\\nSkipping line 5663: expected 3 fields, saw 4\\nSkipping line 5684: expected 3 fields, saw 4\\nSkipping line 5702: expected 3 fields, saw 4\\nSkipping line 5798: expected 3 fields, saw 4\\nSkipping line 5853: expected 3 fields, saw 4\\nSkipping line 5887: expected 3 fields, saw 4\\nSkipping line 5940: expected 3 fields, saw 4\\nSkipping line 6067: expected 3 fields, saw 4\\nSkipping line 6079: expected 3 fields, saw 4\\nSkipping line 6087: expected 3 fields, saw 5\\nSkipping line 6117: expected 3 fields, saw 4\\nSkipping line 6166: expected 3 fields, saw 4\\nSkipping line 6203: expected 3 fields, saw 4\\nSkipping line 6224: expected 3 fields, saw 4\\nSkipping line 6249: expected 3 fields, saw 4\\nSkipping line 6251: expected 3 fields, saw 5\\nSkipping line 6277: expected 3 fields, saw 4\\nSkipping line 6306: expected 3 fields, saw 4\\nSkipping line 6307: expected 3 fields, saw 4\\nSkipping line 6354: expected 3 fields, saw 4\\nSkipping line 6408: expected 3 fields, saw 4\\nSkipping line 6429: expected 3 fields, saw 4\\nSkipping line 6445: expected 3 fields, saw 4\\nSkipping line 6506: expected 3 fields, saw 4\\nSkipping line 6548: expected 3 fields, saw 4\\nSkipping line 6558: expected 3 fields, saw 4\\nSkipping line 6580: expected 3 fields, saw 4\\nSkipping line 6626: expected 3 fields, saw 4\\nSkipping line 7162: expected 3 fields, saw 4\\nSkipping line 7183: expected 3 fields, saw 4\\nSkipping line 7656: expected 3 fields, saw 4\\nSkipping line 7862: expected 3 fields, saw 4\\nSkipping line 7920: expected 3 fields, saw 4\\nSkipping line 8330: expected 3 fields, saw 4\\nSkipping line 8560: expected 3 fields, saw 4\\nSkipping line 8578: expected 3 fields, saw 4\\nSkipping line 8587: expected 3 fields, saw 4\\nSkipping line 9687: expected 3 fields, saw 4\\nSkipping line 10087: expected 3 fields, saw 4\\nSkipping line 10088: expected 3 fields, saw 4\\nSkipping line 10138: expected 3 fields, saw 4\\nSkipping line 10194: expected 3 fields, saw 4\\nSkipping line 10227: expected 3 fields, saw 4\\nSkipping line 10444: expected 3 fields, saw 4\\nSkipping line 11617: expected 3 fields, saw 4\\nSkipping line 12043: expected 3 fields, saw 4\\nSkipping line 12309: expected 3 fields, saw 4\\nSkipping line 12310: expected 3 fields, saw 4\\nSkipping line 12782: expected 3 fields, saw 4\\nSkipping line 14567: expected 3 fields, saw 4\\nSkipping line 14872: expected 3 fields, saw 4\\nSkipping line 14919: expected 3 fields, saw 4\\nSkipping line 14920: expected 3 fields, saw 4\\nSkipping line 15092: expected 3 fields, saw 4\\nSkipping line 15270: expected 3 fields, saw 4\\nSkipping line 15736: expected 3 fields, saw 4\\nSkipping line 15821: expected 3 fields, saw 4\\nSkipping line 16180: expected 3 fields, saw 4\\nSkipping line 16763: expected 3 fields, saw 4\\nSkipping line 17274: expected 3 fields, saw 4\\nSkipping line 17521: expected 3 fields, saw 4\\nSkipping line 17536: expected 3 fields, saw 4\\nSkipping line 17930: expected 3 fields, saw 4\\nSkipping line 17945: expected 3 fields, saw 4\\nSkipping line 18115: expected 3 fields, saw 4\\nSkipping line 18393: expected 3 fields, saw 4\\nSkipping line 18772: expected 3 fields, saw 4\\nSkipping line 19176: expected 3 fields, saw 4\\nSkipping line 19327: expected 3 fields, saw 4\\nSkipping line 19968: expected 3 fields, saw 5\\nSkipping line 20017: expected 3 fields, saw 4\\nSkipping line 20410: expected 3 fields, saw 4\\nSkipping line 20498: expected 3 fields, saw 4\\nSkipping line 20644: expected 3 fields, saw 4\\nSkipping line 20701: expected 3 fields, saw 4\\nSkipping line 21024: expected 3 fields, saw 4\\nSkipping line 21619: expected 3 fields, saw 4\\nSkipping line 22090: expected 3 fields, saw 4\\nSkipping line 22510: expected 3 fields, saw 4\\nSkipping line 22600: expected 3 fields, saw 4\\nSkipping line 22624: expected 3 fields, saw 4\\nSkipping line 22728: expected 3 fields, saw 4\\nSkipping line 22754: expected 3 fields, saw 4\\nSkipping line 23092: expected 3 fields, saw 5\\nSkipping line 24028: expected 3 fields, saw 4\\nSkipping line 24233: expected 3 fields, saw 4\\nSkipping line 24397: expected 3 fields, saw 4\\nSkipping line 24620: expected 3 fields, saw 4\\nSkipping line 24886: expected 3 fields, saw 4\\nSkipping line 25111: expected 3 fields, saw 4\\nSkipping line 26049: expected 3 fields, saw 4\\nSkipping line 26270: expected 3 fields, saw 4\\nSkipping line 26499: expected 3 fields, saw 4\\nSkipping line 26644: expected 3 fields, saw 4\\nSkipping line 26792: expected 3 fields, saw 4\\nSkipping line 26971: expected 3 fields, saw 4\\nSkipping line 27772: expected 3 fields, saw 4\\nSkipping line 28023: expected 3 fields, saw 4\\nSkipping line 28537: expected 3 fields, saw 4\\nSkipping line 28732: expected 3 fields, saw 4\\nSkipping line 28878: expected 3 fields, saw 4\\nSkipping line 29133: expected 3 fields, saw 4\\nSkipping line 30318: expected 3 fields, saw 4\\nSkipping line 30326: expected 3 fields, saw 4\\nSkipping line 31010: expected 3 fields, saw 4\\nSkipping line 31111: expected 3 fields, saw 4\\nSkipping line 31234: expected 3 fields, saw 4\\nSkipping line 31374: expected 3 fields, saw 4\\nSkipping line 31524: expected 3 fields, saw 4\\nSkipping line 31777: expected 3 fields, saw 4\\nSkipping line 31923: expected 3 fields, saw 4\\nSkipping line 32145: expected 3 fields, saw 4\\nSkipping line 32742: expected 3 fields, saw 4\\nSkipping line 32995: expected 3 fields, saw 4\\nSkipping line 33044: expected 3 fields, saw 4\\nSkipping line 33487: expected 3 fields, saw 4\\nSkipping line 33497: expected 3 fields, saw 4\\nSkipping line 33602: expected 3 fields, saw 4\\nSkipping line 34298: expected 3 fields, saw 4\\nSkipping line 34830: expected 3 fields, saw 4\\nSkipping line 35302: expected 3 fields, saw 4\\nSkipping line 35450: expected 3 fields, saw 4\\nSkipping line 35479: expected 3 fields, saw 4\\nSkipping line 35544: expected 3 fields, saw 4\\nSkipping line 35699: expected 3 fields, saw 4\\nSkipping line 35751: expected 3 fields, saw 4\\nSkipping line 36374: expected 3 fields, saw 4\\nSkipping line 36630: expected 3 fields, saw 4\\nSkipping line 36692: expected 3 fields, saw 4\\nSkipping line 36875: expected 3 fields, saw 4\\nSkipping line 36960: expected 3 fields, saw 4\\nSkipping line 37002: expected 3 fields, saw 4\\nSkipping line 37131: expected 3 fields, saw 4\\nSkipping line 37187: expected 3 fields, saw 4\\nSkipping line 37240: expected 3 fields, saw 4\\nSkipping line 37533: expected 3 fields, saw 4\\nSkipping line 37613: expected 3 fields, saw 4\\nSkipping line 37839: expected 3 fields, saw 4\\nSkipping line 38062: expected 3 fields, saw 4\\nSkipping line 38846: expected 3 fields, saw 4\\nSkipping line 39216: expected 3 fields, saw 4\\nSkipping line 39339: expected 3 fields, saw 4\\nSkipping line 39915: expected 3 fields, saw 4\\nSkipping line 40463: expected 3 fields, saw 6\\nSkipping line 40914: expected 3 fields, saw 4\\nSkipping line 40987: expected 3 fields, saw 4\\nSkipping line 41367: expected 3 fields, saw 4\\nSkipping line 41560: expected 3 fields, saw 4\\nSkipping line 41962: expected 3 fields, saw 4\\nSkipping line 44102: expected 3 fields, saw 4\\nSkipping line 44543: expected 3 fields, saw 4\\nSkipping line 44710: expected 3 fields, saw 4\\nSkipping line 45600: expected 3 fields, saw 4\\nSkipping line 45739: expected 3 fields, saw 4\\nSkipping line 46325: expected 3 fields, saw 4\\nSkipping line 46385: expected 3 fields, saw 4\\nSkipping line 46480: expected 3 fields, saw 4\\nSkipping line 47153: expected 3 fields, saw 4\\nSkipping line 47834: expected 3 fields, saw 4\\nSkipping line 47995: expected 3 fields, saw 4\\nSkipping line 48622: expected 3 fields, saw 4\\nSkipping line 50166: expected 3 fields, saw 4\\nSkipping line 50780: expected 3 fields, saw 4\\nSkipping line 51177: expected 3 fields, saw 4\\nSkipping line 51233: expected 3 fields, saw 4\\nSkipping line 51234: expected 3 fields, saw 4\\nSkipping line 51737: expected 3 fields, saw 4\\nSkipping line 52276: expected 3 fields, saw 4\\nSkipping line 52713: expected 3 fields, saw 4\\nSkipping line 53371: expected 3 fields, saw 4\\nSkipping line 53570: expected 3 fields, saw 4\\nSkipping line 54348: expected 3 fields, saw 5\\nSkipping line 55085: expected 3 fields, saw 4\\nSkipping line 55318: expected 3 fields, saw 4\\nSkipping line 55595: expected 3 fields, saw 4\\nSkipping line 55889: expected 3 fields, saw 4\\nSkipping line 55961: expected 3 fields, saw 4\\nSkipping line 56060: expected 3 fields, saw 4\\nSkipping line 56061: expected 3 fields, saw 4\\nSkipping line 56255: expected 3 fields, saw 4\\nSkipping line 56358: expected 3 fields, saw 4\\nSkipping line 56520: expected 3 fields, saw 4\\nSkipping line 56602: expected 3 fields, saw 4\\nSkipping line 56839: expected 3 fields, saw 4\\nSkipping line 58182: expected 3 fields, saw 4\\nSkipping line 59046: expected 3 fields, saw 4\\nSkipping line 59928: expected 3 fields, saw 4\\nSkipping line 59987: expected 3 fields, saw 4\\nSkipping line 60969: expected 3 fields, saw 4\\nSkipping line 61029: expected 3 fields, saw 4\\nSkipping line 62498: expected 3 fields, saw 4\\nSkipping line 62619: expected 3 fields, saw 4\\nSkipping line 62751: expected 3 fields, saw 4\\nSkipping line 64527: expected 3 fields, saw 4\\nSkipping line 64704: expected 3 fields, saw 4\\nSkipping line 64869: expected 3 fields, saw 4\\nSkipping line 65191: expected 3 fields, saw 4\\nSkipping line 65854: expected 3 fields, saw 4\\nSkipping line 66219: expected 3 fields, saw 4\\nSkipping line 66406: expected 3 fields, saw 4\\nSkipping line 66492: expected 3 fields, saw 4\\nSkipping line 67433: expected 3 fields, saw 4\\nSkipping line 67683: expected 3 fields, saw 4\\nSkipping line 67923: expected 3 fields, saw 4\\nSkipping line 67954: expected 3 fields, saw 4\\nSkipping line 68592: expected 3 fields, saw 4\\nSkipping line 68924: expected 3 fields, saw 4\\nSkipping line 69096: expected 3 fields, saw 4\\nSkipping line 69304: expected 3 fields, saw 4\\nSkipping line 70083: expected 3 fields, saw 4\\nSkipping line 70512: expected 3 fields, saw 4\\nSkipping line 70539: expected 3 fields, saw 4\\nSkipping line 70848: expected 3 fields, saw 4\\nSkipping line 71103: expected 3 fields, saw 4\\nSkipping line 71128: expected 3 fields, saw 4\\nSkipping line 71701: expected 3 fields, saw 4\\nSkipping line 72284: expected 3 fields, saw 4\\nSkipping line 73121: expected 3 fields, saw 4\\nSkipping line 73534: expected 3 fields, saw 4\\nSkipping line 74319: expected 3 fields, saw 4\\nSkipping line 74320: expected 3 fields, saw 4\\nSkipping line 75351: expected 3 fields, saw 4\\nSkipping line 75952: expected 3 fields, saw 4\\nSkipping line 76390: expected 3 fields, saw 4\\nSkipping line 76450: expected 3 fields, saw 4\\nSkipping line 76683: expected 3 fields, saw 4\\nSkipping line 77159: expected 3 fields, saw 4\\nSkipping line 77728: expected 3 fields, saw 4\\nSkipping line 77896: expected 3 fields, saw 4\\nSkipping line 78170: expected 3 fields, saw 4\\nSkipping line 78199: expected 3 fields, saw 4\\nSkipping line 78402: expected 3 fields, saw 4\\nSkipping line 78414: expected 3 fields, saw 4\\nSkipping line 78590: expected 3 fields, saw 4\\nSkipping line 80686: expected 3 fields, saw 4\\nSkipping line 81387: expected 3 fields, saw 4\\nSkipping line 81691: expected 3 fields, saw 4\\nSkipping line 82002: expected 3 fields, saw 4\\nSkipping line 82109: expected 3 fields, saw 4\\nSkipping line 82846: expected 3 fields, saw 4\\nSkipping line 83728: expected 3 fields, saw 4\\nSkipping line 83764: expected 3 fields, saw 4\\nSkipping line 84783: expected 3 fields, saw 4\\nSkipping line 85174: expected 3 fields, saw 4\\nSkipping line 85250: expected 3 fields, saw 4\\nSkipping line 85724: expected 3 fields, saw 4\\nSkipping line 86159: expected 3 fields, saw 4\\nSkipping line 86464: expected 3 fields, saw 4\\nSkipping line 87321: expected 3 fields, saw 4\\nSkipping line 87322: expected 3 fields, saw 4\\nSkipping line 87342: expected 3 fields, saw 4\\nSkipping line 88093: expected 3 fields, saw 4\\nSkipping line 89140: expected 3 fields, saw 4\\nSkipping line 89383: expected 3 fields, saw 4\\nSkipping line 89806: expected 3 fields, saw 4\\nSkipping line 89942: expected 3 fields, saw 4\\nSkipping line 90342: expected 3 fields, saw 4\\nSkipping line 90782: expected 3 fields, saw 4\\nSkipping line 91857: expected 3 fields, saw 4\\nSkipping line 91994: expected 3 fields, saw 4\\nSkipping line 92006: expected 3 fields, saw 4\\nSkipping line 93438: expected 3 fields, saw 4\\nSkipping line 93797: expected 3 fields, saw 4\\nSkipping line 93944: expected 3 fields, saw 4\\nSkipping line 94076: expected 3 fields, saw 5\\nSkipping line 94858: expected 3 fields, saw 4\\nSkipping line 95520: expected 3 fields, saw 4\\nSkipping line 95552: expected 3 fields, saw 4\\nSkipping line 95611: expected 3 fields, saw 4\\nSkipping line 95900: expected 3 fields, saw 4\\nSkipping line 96018: expected 3 fields, saw 4\\nSkipping line 96613: expected 3 fields, saw 4\\nSkipping line 96894: expected 3 fields, saw 4\\nSkipping line 97001: expected 3 fields, saw 4\\nSkipping line 97611: expected 3 fields, saw 4\\nSkipping line 98034: expected 3 fields, saw 4\\nSkipping line 98288: expected 3 fields, saw 4\\nSkipping line 98395: expected 3 fields, saw 4\\nSkipping line 98496: expected 3 fields, saw 4\\nSkipping line 98577: expected 3 fields, saw 4\\nSkipping line 98906: expected 3 fields, saw 4\\nSkipping line 99036: expected 3 fields, saw 4\\nSkipping line 99696: expected 3 fields, saw 4\\nSkipping line 99880: expected 3 fields, saw 4\\nSkipping line 100341: expected 3 fields, saw 4\\nSkipping line 100478: expected 3 fields, saw 4\\nSkipping line 100942: expected 3 fields, saw 4\\nSkipping line 102893: expected 3 fields, saw 4\\nSkipping line 103783: expected 3 fields, saw 4\\nSkipping line 105288: expected 3 fields, saw 4\\nSkipping line 105433: expected 3 fields, saw 4\\nSkipping line 106017: expected 3 fields, saw 4\\nSkipping line 106073: expected 3 fields, saw 4\\nSkipping line 106186: expected 3 fields, saw 4\\nSkipping line 106589: expected 3 fields, saw 4\\nSkipping line 106597: expected 3 fields, saw 4\\nSkipping line 106612: expected 3 fields, saw 4\\nSkipping line 106812: expected 3 fields, saw 4\\nSkipping line 106852: expected 3 fields, saw 4\\nSkipping line 107312: expected 3 fields, saw 4\\nSkipping line 107630: expected 3 fields, saw 4\\nSkipping line 107782: expected 3 fields, saw 4\\nSkipping line 108058: expected 3 fields, saw 4\\nSkipping line 108167: expected 3 fields, saw 4\\nSkipping line 108426: expected 3 fields, saw 4\\nSkipping line 109241: expected 3 fields, saw 4\\nSkipping line 110165: expected 3 fields, saw 4\\nSkipping line 110264: expected 3 fields, saw 4\\nSkipping line 110915: expected 3 fields, saw 4\\nSkipping line 111153: expected 3 fields, saw 4\\nSkipping line 111503: expected 3 fields, saw 4\\nSkipping line 111554: expected 3 fields, saw 4\\nSkipping line 111756: expected 3 fields, saw 4\\nSkipping line 111757: expected 3 fields, saw 4\\nSkipping line 111771: expected 3 fields, saw 4\\nSkipping line 111772: expected 3 fields, saw 4\\nSkipping line 111870: expected 3 fields, saw 4\\nSkipping line 111889: expected 3 fields, saw 4\\nSkipping line 112111: expected 3 fields, saw 4\\nSkipping line 112664: expected 3 fields, saw 4\\nSkipping line 112693: expected 3 fields, saw 4\\nSkipping line 112903: expected 3 fields, saw 4\\nSkipping line 112987: expected 3 fields, saw 4\\nSkipping line 113570: expected 3 fields, saw 4\\nSkipping line 113741: expected 3 fields, saw 4\\nSkipping line 114356: expected 3 fields, saw 4\\nSkipping line 117329: expected 3 fields, saw 4\\nSkipping line 117359: expected 3 fields, saw 4\\nSkipping line 118060: expected 3 fields, saw 4\\nSkipping line 118257: expected 3 fields, saw 4\\nSkipping line 118267: expected 3 fields, saw 5\\nSkipping line 118875: expected 3 fields, saw 4\\nSkipping line 120554: expected 3 fields, saw 4\\nSkipping line 120580: expected 3 fields, saw 4\\nSkipping line 120728: expected 3 fields, saw 4\\nSkipping line 121460: expected 3 fields, saw 4\\nSkipping line 121635: expected 3 fields, saw 4\\nSkipping line 121987: expected 3 fields, saw 4\\nSkipping line 122778: expected 3 fields, saw 4\\nSkipping line 122968: expected 3 fields, saw 4\\nSkipping line 123018: expected 3 fields, saw 4\\nSkipping line 123278: expected 3 fields, saw 4\\nSkipping line 123685: expected 3 fields, saw 4\\nSkipping line 124187: expected 3 fields, saw 4\\nSkipping line 124556: expected 3 fields, saw 4\\nSkipping line 124963: expected 3 fields, saw 4\\nSkipping line 125019: expected 3 fields, saw 4\\nSkipping line 126692: expected 3 fields, saw 4\\nSkipping line 127480: expected 3 fields, saw 4\\nSkipping line 127700: expected 3 fields, saw 4\\nSkipping line 129414: expected 3 fields, saw 4\\nSkipping line 130234: expected 3 fields, saw 4\\nSkipping line 130330: expected 3 fields, saw 4\\nSkipping line 131782: expected 3 fields, saw 4\\nSkipping line 132038: expected 3 fields, saw 4\\nSkipping line 132331: expected 3 fields, saw 4\\nSkipping line 133022: expected 3 fields, saw 4\\nSkipping line 133042: expected 3 fields, saw 4\\nSkipping line 133191: expected 3 fields, saw 4\\nSkipping line 133439: expected 3 fields, saw 4\\nSkipping line 133509: expected 3 fields, saw 4\\nSkipping line 134176: expected 3 fields, saw 4\\nSkipping line 134204: expected 3 fields, saw 4\\nSkipping line 134261: expected 3 fields, saw 4\\nSkipping line 134858: expected 3 fields, saw 4\\nSkipping line 134938: expected 3 fields, saw 4\\nSkipping line 135877: expected 3 fields, saw 4\\nSkipping line 136604: expected 3 fields, saw 4\\nSkipping line 136638: expected 3 fields, saw 4\\nSkipping line 136786: expected 3 fields, saw 4\\nSkipping line 136798: expected 3 fields, saw 4\\nSkipping line 137515: expected 3 fields, saw 4\\nSkipping line 137630: expected 3 fields, saw 4\\nSkipping line 137821: expected 3 fields, saw 4\\nSkipping line 137822: expected 3 fields, saw 4\\nSkipping line 138007: expected 3 fields, saw 4\\nSkipping line 138078: expected 3 fields, saw 4\\nSkipping line 138138: expected 3 fields, saw 4\\nSkipping line 138312: expected 3 fields, saw 4\\nSkipping line 139478: expected 3 fields, saw 4\\nSkipping line 140141: expected 3 fields, saw 4\\nSkipping line 140602: expected 3 fields, saw 4\\nSkipping line 140801: expected 3 fields, saw 4\\nSkipping line 140802: expected 3 fields, saw 4\\nSkipping line 141866: expected 3 fields, saw 4\\nSkipping line 142282: expected 3 fields, saw 4\\nSkipping line 142591: expected 3 fields, saw 4\\nSkipping line 142710: expected 3 fields, saw 4\\nSkipping line 142882: expected 3 fields, saw 4\\nSkipping line 142931: expected 3 fields, saw 4\\nSkipping line 143251: expected 3 fields, saw 4\\nSkipping line 143521: expected 3 fields, saw 4\\nSkipping line 144073: expected 3 fields, saw 4\\nSkipping line 144463: expected 3 fields, saw 4\\nSkipping line 144631: expected 3 fields, saw 4\\nSkipping line 144917: expected 3 fields, saw 4\\nSkipping line 144918: expected 3 fields, saw 4\\nSkipping line 145854: expected 3 fields, saw 4\\nSkipping line 146865: expected 3 fields, saw 4\\nSkipping line 146866: expected 3 fields, saw 4\\nSkipping line 148249: expected 3 fields, saw 4\\nSkipping line 148561: expected 3 fields, saw 4\\nSkipping line 149907: expected 3 fields, saw 4\\nSkipping line 150575: expected 3 fields, saw 4\\nSkipping line 150615: expected 3 fields, saw 4\\nSkipping line 151176: expected 3 fields, saw 4\\nSkipping line 151202: expected 3 fields, saw 4\\nSkipping line 151311: expected 3 fields, saw 4\\nSkipping line 151463: expected 3 fields, saw 4\\nSkipping line 152016: expected 3 fields, saw 4\\nSkipping line 152073: expected 3 fields, saw 4\\nSkipping line 152083: expected 3 fields, saw 4\\nSkipping line 152327: expected 3 fields, saw 4\\nSkipping line 152427: expected 3 fields, saw 4\\nSkipping line 152473: expected 3 fields, saw 4\\nSkipping line 152519: expected 3 fields, saw 4\\nSkipping line 152716: expected 3 fields, saw 4\\nSkipping line 152771: expected 3 fields, saw 4\\nSkipping line 152888: expected 3 fields, saw 4\\nSkipping line 152925: expected 3 fields, saw 4\\nSkipping line 153050: expected 3 fields, saw 4\\nSkipping line 153210: expected 3 fields, saw 4\\nSkipping line 153297: expected 3 fields, saw 4\\nSkipping line 153363: expected 3 fields, saw 4\\nSkipping line 153636: expected 3 fields, saw 4\\nSkipping line 153793: expected 3 fields, saw 4\\nSkipping line 153919: expected 3 fields, saw 4\\nSkipping line 154015: expected 3 fields, saw 4\\nSkipping line 154133: expected 3 fields, saw 4\\nSkipping line 154280: expected 3 fields, saw 4\\nSkipping line 154356: expected 3 fields, saw 4\\nSkipping line 154532: expected 3 fields, saw 4\\nSkipping line 155369: expected 3 fields, saw 4\\nSkipping line 155402: expected 3 fields, saw 4\\nSkipping line 155732: expected 3 fields, saw 4\\nSkipping line 155903: expected 3 fields, saw 4\\nSkipping line 155904: expected 3 fields, saw 4\\nSkipping line 155915: expected 3 fields, saw 4\\nSkipping line 156273: expected 3 fields, saw 4\\nSkipping line 156639: expected 3 fields, saw 4\\nSkipping line 156945: expected 3 fields, saw 4\\nSkipping line 156965: expected 3 fields, saw 4\\nSkipping line 156997: expected 3 fields, saw 4\\nSkipping line 158122: expected 3 fields, saw 4\\nSkipping line 158626: expected 3 fields, saw 4\\nSkipping line 158993: expected 3 fields, saw 4\\nSkipping line 159407: expected 3 fields, saw 4\\nSkipping line 160292: expected 3 fields, saw 4\\nSkipping line 160340: expected 3 fields, saw 4\\nSkipping line 161007: expected 3 fields, saw 4\\nSkipping line 161202: expected 3 fields, saw 4\\nSkipping line 161376: expected 3 fields, saw 4\\nSkipping line 161658: expected 3 fields, saw 4\\nSkipping line 161662: expected 3 fields, saw 4\\nSkipping line 161701: expected 3 fields, saw 4\\nSkipping line 161741: expected 3 fields, saw 4\\nSkipping line 161772: expected 3 fields, saw 4\\nSkipping line 161798: expected 3 fields, saw 4\\nSkipping line 161865: expected 3 fields, saw 4\\nSkipping line 161888: expected 3 fields, saw 4\\nSkipping line 161889: expected 3 fields, saw 4\\nSkipping line 161927: expected 3 fields, saw 4\\nSkipping line 162009: expected 3 fields, saw 4\\nSkipping line 162045: expected 3 fields, saw 4\\nSkipping line 162065: expected 3 fields, saw 4\\nSkipping line 162082: expected 3 fields, saw 4\\nSkipping line 162093: expected 3 fields, saw 4\\nSkipping line 162135: expected 3 fields, saw 4\\nSkipping line 162146: expected 3 fields, saw 4\\nSkipping line 162213: expected 3 fields, saw 4\\nSkipping line 162219: expected 3 fields, saw 4\\nSkipping line 162230: expected 3 fields, saw 4\\nSkipping line 162231: expected 3 fields, saw 4\\nSkipping line 162250: expected 3 fields, saw 4\\nSkipping line 162299: expected 3 fields, saw 4\\nSkipping line 162317: expected 3 fields, saw 4\\nSkipping line 162397: expected 3 fields, saw 4\\nSkipping line 162435: expected 3 fields, saw 4\\nSkipping line 162588: expected 3 fields, saw 4\\nSkipping line 162634: expected 3 fields, saw 4\\nSkipping line 162650: expected 3 fields, saw 4\\nSkipping line 162682: expected 3 fields, saw 4\\nSkipping line 162721: expected 3 fields, saw 4\\nSkipping line 162786: expected 3 fields, saw 4\\nSkipping line 162831: expected 3 fields, saw 4\\nSkipping line 162966: expected 3 fields, saw 4\\nSkipping line 163007: expected 3 fields, saw 4\\nSkipping line 163012: expected 3 fields, saw 4\\nSkipping line 163013: expected 3 fields, saw 4\\nSkipping line 163022: expected 3 fields, saw 4\\nSkipping line 163190: expected 3 fields, saw 4\\nSkipping line 163231: expected 3 fields, saw 4\\nSkipping line 163404: expected 3 fields, saw 4\\nSkipping line 163424: expected 3 fields, saw 4\\nSkipping line 163429: expected 3 fields, saw 4\\nSkipping line 163432: expected 3 fields, saw 5\\nSkipping line 163448: expected 3 fields, saw 4\\nSkipping line 163477: expected 3 fields, saw 4\\nSkipping line 163529: expected 3 fields, saw 4\\nSkipping line 163549: expected 3 fields, saw 5\\nSkipping line 163558: expected 3 fields, saw 4\\nSkipping line 163578: expected 3 fields, saw 4\\nSkipping line 163718: expected 3 fields, saw 4\\nSkipping line 163722: expected 3 fields, saw 4\\nSkipping line 163750: expected 3 fields, saw 4\\nSkipping line 163766: expected 3 fields, saw 4\\nSkipping line 163810: expected 3 fields, saw 4\\nSkipping line 163894: expected 3 fields, saw 4\\nSkipping line 163900: expected 3 fields, saw 4\\nSkipping line 163903: expected 3 fields, saw 4\\nSkipping line 163909: expected 3 fields, saw 4\\nSkipping line 163937: expected 3 fields, saw 4\\nSkipping line 163939: expected 3 fields, saw 4\\nSkipping line 163966: expected 3 fields, saw 4\\nSkipping line 164044: expected 3 fields, saw 4\\nSkipping line 164080: expected 3 fields, saw 4\\nSkipping line 164199: expected 3 fields, saw 4\\nSkipping line 164229: expected 3 fields, saw 4\\nSkipping line 164237: expected 3 fields, saw 4\\nSkipping line 164279: expected 3 fields, saw 4\\nSkipping line 164311: expected 3 fields, saw 4\\nSkipping line 164322: expected 3 fields, saw 4\\n'\n"
     ]
    },
    {
     "name": "stdout",
     "output_type": "stream",
     "text": [
      "GloVe data loaded\n"
     ]
    }
   ],
   "source": [
    "#------------------------------Loading data --------------------------------------#\n",
    "\n",
    "\n",
    "data=load_dataset()\n",
    "#------------------------------Loading knowledge base and mapping --------------------------------------#\n",
    "\n",
    "facts,mapping=load_kb()\n",
    "#------------------------------Loading embedding matrix --------------------------------------#\n",
    "\n",
    "embeddings_index=load_embedding_matrix()\n",
    "\n",
    "\n",
    "#------------------------------one time deal--------------------------------------#\n"
   ]
  },
  {
   "cell_type": "code",
   "execution_count": 520,
   "metadata": {},
   "outputs": [],
   "source": [
    "#------------------------------Doinf for one example --------------------------------------#\n",
    "\n",
    "NamedEntity= ['Barry Fitzgerald',\n",
    "  'Charles B. Fitzsimons',\n",
    "  'Sean McClory',\n",
    "  'John Wayne',\n",
    "  \"Maureen O'Hara\"]\n",
    "\n",
    "#------------------------------getting relevant facts--------------------------------------#\n",
    "fv=get_facts(NamedEntity)\n",
    "\n",
    "#------------------------------getting embedding of relevant facts--------------------------------------#\n",
    "embedded_facts=get_emb_facts(fv)\n",
    "\n",
    "#------------------------------getting mean embedding of relevant facts--------------------------------------#\n",
    "emded_mean=get_final_avg(embedded_facts)"
   ]
  },
  {
   "cell_type": "markdown",
   "metadata": {},
   "source": [
    "# Getting Embedding of questions"
   ]
  },
  {
   "cell_type": "code",
   "execution_count": 306,
   "metadata": {},
   "outputs": [],
   "source": [
    "question=\"Who is the person in the picture\""
   ]
  },
  {
   "cell_type": "code",
   "execution_count": 308,
   "metadata": {},
   "outputs": [],
   "source": [
    "# dats is stored in form of dictionary of dictionaries.\n",
    "#outer dictionary is index: {data[index]}\n",
    "#inner dictionary is named_entities:[---,---,---],questions:[---,---,],....\n",
    "# we have to get index for each word\n",
    "#------------------------------getting inidices of data dictionary -----------------------------------#\n",
    "\n",
    "indices=list(data.keys())\n",
    "indices.sort()\n",
    "train_indices=indices[:20000]\n",
    "test_indices=indices[20000:]"
   ]
  },
  {
   "cell_type": "code",
   "execution_count": 310,
   "metadata": {},
   "outputs": [],
   "source": [
    "#------------------------------class for indexing all words -----------------------------------#\n",
    "\n",
    "class vocab:\n",
    "    def __init__(self):\n",
    "        self.n_words=0\n",
    "        self.word2index={}\n",
    "        self.word2count={}\n",
    "        self.index2word={}\n",
    "    def index_word(self, word):\n",
    "        if word not in self.word2index:\n",
    "            self.word2index[word]=self.n_words\n",
    "            self.word2count[word]=1\n",
    "            self.index2word[self.n_words]=word\n",
    "            self.n_words=self.n_words+1\n",
    "        else:\n",
    "            self.word2count[word]+=1\n",
    "        \n",
    "    def index_words(self, sentence):\n",
    "        for word in sentence:\n",
    "            self.index_word(word)\n"
   ]
  },
  {
   "cell_type": "code",
   "execution_count": 311,
   "metadata": {},
   "outputs": [],
   "source": [
    "#-----------------function for getting the data in right format so we can use above class ------------------#\n",
    "def index_data():\n",
    "    data_class=vocab()\n",
    "    pre_data=[]\n",
    "    for index in train_indices:\n",
    "        for word in str(data[index]).split(\" \"):\n",
    "            pre_data.append((word))\n",
    "    clean_data=[]\n",
    "    for word in pre_data:\n",
    "        clean_data.append(word.replace(':',' ').replace(',',' ').replace('[',' ').replace('{',' ').replace(']',' ').replace('}',' ').replace('\"','').replace(\"\\\\\",\"\").replace(\"'\",\"\"))\n",
    "    data_class.index_words(clean_data)\n",
    "    return data_class\n",
    "    \n",
    "        \n",
    "        \n",
    "        "
   ]
  },
  {
   "cell_type": "code",
   "execution_count": 312,
   "metadata": {},
   "outputs": [],
   "source": [
    "def index_from_sentence(sentence):\n",
    "    indexes=[data_class.word2index[word] for word in sentence.split(\" \")]\n",
    "    return indexes"
   ]
  },
  {
   "cell_type": "code",
   "execution_count": 313,
   "metadata": {},
   "outputs": [],
   "source": [
    "def variable_from_sentence(sentence):\n",
    "    index=index_from_sentence(sentence)\n",
    "    \n",
    "    var = Variable(torch.LongTensor(index).view(-1, 1))\n",
    "    return var"
   ]
  },
  {
   "cell_type": "code",
   "execution_count": 314,
   "metadata": {},
   "outputs": [],
   "source": [
    "# index data\n",
    "process_data=index_data()\n",
    "#getting tensor from indexes of an example question\n",
    "var=variable_from_sentence(question)"
   ]
  },
  {
   "cell_type": "code",
   "execution_count": 380,
   "metadata": {},
   "outputs": [],
   "source": [
    "question=\"Who is the person in the picture\"\n",
    "hidden_size=100\n",
    "vocab_size=data_class.n_words\n",
    "word_embedding=nn.Embedding(vocab_size,hidden_size,padding_idx=0,sparse=True)\n"
   ]
  },
  {
   "cell_type": "code",
   "execution_count": 381,
   "metadata": {},
   "outputs": [],
   "source": [
    "def question_module(var,word_embedding):\n",
    "    gru=nn.GRU(hidden_size,hidden_size,bidirectional=False,batch_first=True)\n",
    "    #print(\"before any embedding\",var.size())\n",
    "    #print(\"before any embedding, the tensor is:\",var)\n",
    "    \n",
    "    var = word_embedding(var)\n",
    "    #print(\"after word embedding embedding\",var.size())\n",
    "    #print(\"after embedding, the tensor is:\",var)\n",
    "    \n",
    "    bls, questions = gru(var)\n",
    "    #print(\"after gru\",questions.size())\n",
    "    question_rep=torch.mean(wer,dim=0)\n",
    "#questions = questions.transpose(0, 1)\n",
    "    return question_rep"
   ]
  },
  {
   "cell_type": "code",
   "execution_count": 382,
   "metadata": {},
   "outputs": [],
   "source": [
    "question_rep=question_module(var,word_embedding)\n",
    "final_facts=torch.as_tensor(embedded_facts_arr_avg)"
   ]
  },
  {
   "cell_type": "code",
   "execution_count": 383,
   "metadata": {
    "collapsed": true
   },
   "outputs": [
    {
     "data": {
      "text/plain": [
       "tensor([ 0.0141,  0.0911,  0.1821, -0.0323, -0.1940,  0.0725, -0.0190, -0.0029,\n",
       "        -0.0234, -0.2315,  0.0794, -0.0777, -0.0116, -0.0012,  0.0644,  0.0358,\n",
       "         0.0598, -0.0477,  0.0056,  0.0879, -0.0878, -0.0498, -0.1441,  0.1717,\n",
       "        -0.0134, -0.0728, -0.0477,  0.2358,  0.0683,  0.0187, -0.0287, -0.0957,\n",
       "         0.0712, -0.0571, -0.0650,  0.1184, -0.1814, -0.0741, -0.0702,  0.0065,\n",
       "         0.0824,  0.0392,  0.1298, -0.0784, -0.0018,  0.2101,  0.1296, -0.2299,\n",
       "        -0.0465, -0.0089, -0.0157, -0.1230,  0.0131,  0.0930,  0.0774, -0.0255,\n",
       "        -0.1469, -0.1431, -0.0762, -0.0583,  0.1448,  0.0998,  0.1846,  0.1257,\n",
       "         0.1272,  0.2337,  0.0249, -0.1079,  0.0400, -0.0459, -0.0907, -0.0735,\n",
       "         0.0329,  0.0825, -0.2087,  0.1153,  0.0652,  0.2206,  0.1038, -0.0391,\n",
       "         0.1151, -0.0668, -0.0200, -0.1341, -0.0564, -0.1161, -0.0120, -0.1061,\n",
       "        -0.1499, -0.0085,  0.0689, -0.1046,  0.0569,  0.0129, -0.0674,  0.1510,\n",
       "         0.0479,  0.0109, -0.0775, -0.1016], grad_fn=<MeanBackward0>)"
      ]
     },
     "execution_count": 383,
     "metadata": {},
     "output_type": "execute_result"
    }
   ],
   "source": [
    "question_rep"
   ]
  },
  {
   "cell_type": "code",
   "execution_count": 398,
   "metadata": {},
   "outputs": [],
   "source": [
    "cos = nn.CosineSimilarity()\n"
   ]
  },
  {
   "cell_type": "code",
   "execution_count": 523,
   "metadata": {},
   "outputs": [
    {
     "data": {
      "text/plain": [
       "tensor([ 0.3301, -0.2589,  0.1292, -0.0648, -0.2591,  0.2132,  0.6387,  0.6393,\n",
       "         0.1905,  0.9139,  0.0060, -0.3799,  0.2677,  1.0973, -0.4382, -1.0627,\n",
       "         1.3068, -0.1554,  0.2435,  1.0565, -0.7058,  0.3902, -0.4019,  0.6487,\n",
       "         0.3928,  0.4166, -0.5415, -0.0471,  1.1007,  0.4735, -0.0987,  0.1336,\n",
       "         0.8668,  0.7820, -1.5777,  0.2915,  0.0008,  0.1177, -0.5003, -0.1277,\n",
       "        -0.2888,  0.1175, -0.5712, -0.1256, -0.1508,  0.0031,  0.3045,  0.7384,\n",
       "         0.1053,  0.3574, -0.3122, -0.0977,  0.5057, -0.2791, -0.1661, -0.7896,\n",
       "         0.7270, -0.2666,  0.0180,  0.0861, -0.4589,  0.3203,  0.2126, -0.3596,\n",
       "        -0.5425,  0.0201,  0.2715,  0.4108,  0.1081,  0.1808,  0.1178,  0.4051,\n",
       "         0.0992, -0.5034,  0.1427,  0.4013,  0.0959,  0.2076,  0.3070, -0.0297,\n",
       "         0.1513,  0.2089, -0.4619, -0.7064, -0.2686, -0.1432, -0.0857, -0.7484,\n",
       "         0.4347, -0.7894, -0.3720,  0.2452,  0.0434,  0.7950, -0.0391, -0.0271,\n",
       "        -0.5943, -0.1690, -0.0408,  0.2284])"
      ]
     },
     "execution_count": 523,
     "metadata": {},
     "output_type": "execute_result"
    }
   ],
   "source": [
    "final_facts[0]"
   ]
  },
  {
   "cell_type": "code",
   "execution_count": 421,
   "metadata": {
    "collapsed": true
   },
   "outputs": [
    {
     "ename": "TypeError",
     "evalue": "norm() missing 1 required positional arguments: \"dim\"",
     "output_type": "error",
     "traceback": [
      "\u001b[0;31m---------------------------------------------------------------------------\u001b[0m",
      "\u001b[0;31mTypeError\u001b[0m                                 Traceback (most recent call last)",
      "\u001b[0;32m<ipython-input-421-20fa348af618>\u001b[0m in \u001b[0;36m<module>\u001b[0;34m\u001b[0m\n\u001b[0;32m----> 1\u001b[0;31m \u001b[0mfinal_facts\u001b[0m\u001b[0;34m[\u001b[0m\u001b[0;36m0\u001b[0m\u001b[0;34m]\u001b[0m\u001b[0;34m.\u001b[0m\u001b[0mnorm\u001b[0m\u001b[0;34m(\u001b[0m\u001b[0mmean\u001b[0m\u001b[0;34m=\u001b[0m\u001b[0;34m[\u001b[0m\u001b[0;34m-\u001b[0m\u001b[0;36m0.5\u001b[0m\u001b[0;34m/\u001b[0m\u001b[0;36m0.5\u001b[0m\u001b[0;34m]\u001b[0m\u001b[0;34m,\u001b[0m \u001b[0mstd\u001b[0m\u001b[0;34m=\u001b[0m\u001b[0;34m[\u001b[0m\u001b[0;36m1\u001b[0m\u001b[0;34m/\u001b[0m\u001b[0;36m0.5\u001b[0m\u001b[0;34m]\u001b[0m\u001b[0;34m)\u001b[0m\u001b[0;34m\u001b[0m\u001b[0m\n\u001b[0m",
      "\u001b[0;31mTypeError\u001b[0m: norm() missing 1 required positional arguments: \"dim\""
     ]
    }
   ],
   "source": [
    "final_facts[0].norm(mean=[-0.5/0.5], std=[1/0.5])"
   ]
  },
  {
   "cell_type": "code",
   "execution_count": 416,
   "metadata": {},
   "outputs": [],
   "source": [
    "q=torch.normal(mean=0.0, std=question_rep, out=None)\n",
    "f=torch.normal(mean=0.0, std=final_facts[0], out=None)"
   ]
  },
  {
   "cell_type": "code",
   "execution_count": 412,
   "metadata": {
    "collapsed": true
   },
   "outputs": [
    {
     "ename": "RuntimeError",
     "evalue": "Dimension out of range (expected to be in range of [-1, 0], but got 1)",
     "output_type": "error",
     "traceback": [
      "\u001b[0;31m---------------------------------------------------------------------------\u001b[0m",
      "\u001b[0;31mRuntimeError\u001b[0m                              Traceback (most recent call last)",
      "\u001b[0;32m<ipython-input-412-cd154dfc8fe4>\u001b[0m in \u001b[0;36m<module>\u001b[0;34m\u001b[0m\n\u001b[0;32m----> 1\u001b[0;31m \u001b[0moutput\u001b[0m \u001b[0;34m=\u001b[0m \u001b[0mcos\u001b[0m\u001b[0;34m(\u001b[0m\u001b[0mq\u001b[0m\u001b[0;34m,\u001b[0m \u001b[0mf\u001b[0m\u001b[0;34m)\u001b[0m\u001b[0;34m\u001b[0m\u001b[0m\n\u001b[0m",
      "\u001b[0;32m~/anaconda3/lib/python3.6/site-packages/torch/nn/modules/module.py\u001b[0m in \u001b[0;36m__call__\u001b[0;34m(self, *input, **kwargs)\u001b[0m\n\u001b[1;32m    475\u001b[0m             \u001b[0mresult\u001b[0m \u001b[0;34m=\u001b[0m \u001b[0mself\u001b[0m\u001b[0;34m.\u001b[0m\u001b[0m_slow_forward\u001b[0m\u001b[0;34m(\u001b[0m\u001b[0;34m*\u001b[0m\u001b[0minput\u001b[0m\u001b[0;34m,\u001b[0m \u001b[0;34m**\u001b[0m\u001b[0mkwargs\u001b[0m\u001b[0;34m)\u001b[0m\u001b[0;34m\u001b[0m\u001b[0m\n\u001b[1;32m    476\u001b[0m         \u001b[0;32melse\u001b[0m\u001b[0;34m:\u001b[0m\u001b[0;34m\u001b[0m\u001b[0m\n\u001b[0;32m--> 477\u001b[0;31m             \u001b[0mresult\u001b[0m \u001b[0;34m=\u001b[0m \u001b[0mself\u001b[0m\u001b[0;34m.\u001b[0m\u001b[0mforward\u001b[0m\u001b[0;34m(\u001b[0m\u001b[0;34m*\u001b[0m\u001b[0minput\u001b[0m\u001b[0;34m,\u001b[0m \u001b[0;34m**\u001b[0m\u001b[0mkwargs\u001b[0m\u001b[0;34m)\u001b[0m\u001b[0;34m\u001b[0m\u001b[0m\n\u001b[0m\u001b[1;32m    478\u001b[0m         \u001b[0;32mfor\u001b[0m \u001b[0mhook\u001b[0m \u001b[0;32min\u001b[0m \u001b[0mself\u001b[0m\u001b[0;34m.\u001b[0m\u001b[0m_forward_hooks\u001b[0m\u001b[0;34m.\u001b[0m\u001b[0mvalues\u001b[0m\u001b[0;34m(\u001b[0m\u001b[0;34m)\u001b[0m\u001b[0;34m:\u001b[0m\u001b[0;34m\u001b[0m\u001b[0m\n\u001b[1;32m    479\u001b[0m             \u001b[0mhook_result\u001b[0m \u001b[0;34m=\u001b[0m \u001b[0mhook\u001b[0m\u001b[0;34m(\u001b[0m\u001b[0mself\u001b[0m\u001b[0;34m,\u001b[0m \u001b[0minput\u001b[0m\u001b[0;34m,\u001b[0m \u001b[0mresult\u001b[0m\u001b[0;34m)\u001b[0m\u001b[0;34m\u001b[0m\u001b[0m\n",
      "\u001b[0;32m~/anaconda3/lib/python3.6/site-packages/torch/nn/modules/distance.py\u001b[0m in \u001b[0;36mforward\u001b[0;34m(self, x1, x2)\u001b[0m\n\u001b[1;32m     69\u001b[0m \u001b[0;34m\u001b[0m\u001b[0m\n\u001b[1;32m     70\u001b[0m     \u001b[0;32mdef\u001b[0m \u001b[0mforward\u001b[0m\u001b[0;34m(\u001b[0m\u001b[0mself\u001b[0m\u001b[0;34m,\u001b[0m \u001b[0mx1\u001b[0m\u001b[0;34m,\u001b[0m \u001b[0mx2\u001b[0m\u001b[0;34m)\u001b[0m\u001b[0;34m:\u001b[0m\u001b[0;34m\u001b[0m\u001b[0m\n\u001b[0;32m---> 71\u001b[0;31m         \u001b[0;32mreturn\u001b[0m \u001b[0mF\u001b[0m\u001b[0;34m.\u001b[0m\u001b[0mcosine_similarity\u001b[0m\u001b[0;34m(\u001b[0m\u001b[0mx1\u001b[0m\u001b[0;34m,\u001b[0m \u001b[0mx2\u001b[0m\u001b[0;34m,\u001b[0m \u001b[0mself\u001b[0m\u001b[0;34m.\u001b[0m\u001b[0mdim\u001b[0m\u001b[0;34m,\u001b[0m \u001b[0mself\u001b[0m\u001b[0;34m.\u001b[0m\u001b[0meps\u001b[0m\u001b[0;34m)\u001b[0m\u001b[0;34m\u001b[0m\u001b[0m\n\u001b[0m",
      "\u001b[0;32m~/anaconda3/lib/python3.6/site-packages/torch/nn/functional.py\u001b[0m in \u001b[0;36mcosine_similarity\u001b[0;34m(x1, x2, dim, eps)\u001b[0m\n\u001b[1;32m   2215\u001b[0m         \u001b[0;34m>>\u001b[0m\u001b[0;34m>\u001b[0m \u001b[0mprint\u001b[0m\u001b[0;34m(\u001b[0m\u001b[0moutput\u001b[0m\u001b[0;34m)\u001b[0m\u001b[0;34m\u001b[0m\u001b[0m\n\u001b[1;32m   2216\u001b[0m     \"\"\"\n\u001b[0;32m-> 2217\u001b[0;31m     \u001b[0mw12\u001b[0m \u001b[0;34m=\u001b[0m \u001b[0mtorch\u001b[0m\u001b[0;34m.\u001b[0m\u001b[0msum\u001b[0m\u001b[0;34m(\u001b[0m\u001b[0mx1\u001b[0m \u001b[0;34m*\u001b[0m \u001b[0mx2\u001b[0m\u001b[0;34m,\u001b[0m \u001b[0mdim\u001b[0m\u001b[0;34m)\u001b[0m\u001b[0;34m\u001b[0m\u001b[0m\n\u001b[0m\u001b[1;32m   2218\u001b[0m     \u001b[0mw1\u001b[0m \u001b[0;34m=\u001b[0m \u001b[0mtorch\u001b[0m\u001b[0;34m.\u001b[0m\u001b[0mnorm\u001b[0m\u001b[0;34m(\u001b[0m\u001b[0mx1\u001b[0m\u001b[0;34m,\u001b[0m \u001b[0;36m2\u001b[0m\u001b[0;34m,\u001b[0m \u001b[0mdim\u001b[0m\u001b[0;34m)\u001b[0m\u001b[0;34m\u001b[0m\u001b[0m\n\u001b[1;32m   2219\u001b[0m     \u001b[0mw2\u001b[0m \u001b[0;34m=\u001b[0m \u001b[0mtorch\u001b[0m\u001b[0;34m.\u001b[0m\u001b[0mnorm\u001b[0m\u001b[0;34m(\u001b[0m\u001b[0mx2\u001b[0m\u001b[0;34m,\u001b[0m \u001b[0;36m2\u001b[0m\u001b[0;34m,\u001b[0m \u001b[0mdim\u001b[0m\u001b[0;34m)\u001b[0m\u001b[0;34m\u001b[0m\u001b[0m\n",
      "\u001b[0;31mRuntimeError\u001b[0m: Dimension out of range (expected to be in range of [-1, 0], but got 1)"
     ]
    }
   ],
   "source": [
    "output = cos(q, f)"
   ]
  },
  {
   "cell_type": "code",
   "execution_count": 420,
   "metadata": {
    "collapsed": true
   },
   "outputs": [
    {
     "data": {
      "text/plain": [
       "tensor([-0.2356,  0.0266,  0.0736,  0.0031,  0.2581, -0.0339, -0.0281,  0.3478,\n",
       "        -0.0875, -0.4883,  0.0028, -0.1502, -0.0289, -0.1239,  0.0379, -1.6303,\n",
       "         2.2994,  0.2167,  0.1570,  0.9954, -0.0946,  0.2199, -0.1479, -0.1624,\n",
       "         0.0099,  0.1878,  0.5409, -0.0033,  0.2546,  0.2114, -0.2059, -0.0283,\n",
       "        -1.0402,  1.1989, -0.3712, -0.4924, -0.0010,  0.1025,  0.7438, -0.0608,\n",
       "         0.1456, -0.0174,  0.2019,  0.1307, -0.1050, -0.0040, -0.5593, -0.5899,\n",
       "         0.0677,  1.1692, -0.0277,  0.1711,  1.1188,  0.0778, -0.0273,  0.7792,\n",
       "         0.3692, -0.2778,  0.0304, -0.0945, -0.0294,  0.0026, -0.0552,  0.5237,\n",
       "        -0.5805,  0.0073, -0.1872,  0.1878,  0.0828, -0.0036,  0.0046, -0.3077,\n",
       "         0.0552,  0.9907,  0.0605,  0.0657,  0.1772, -0.2496, -0.0221,  0.0194,\n",
       "        -0.0355, -0.1713,  0.5079, -0.6365,  0.6487,  0.2269,  0.0496, -0.1968,\n",
       "         0.1782,  0.8922, -0.0258,  0.0619, -0.0213,  0.0691,  0.0069,  0.0202,\n",
       "         0.4552,  0.1673, -0.0076,  0.2088])"
      ]
     },
     "execution_count": 420,
     "metadata": {},
     "output_type": "execute_result"
    }
   ],
   "source": [
    "f"
   ]
  },
  {
   "cell_type": "code",
   "execution_count": null,
   "metadata": {},
   "outputs": [],
   "source": []
  }
 ],
 "metadata": {
  "kernelspec": {
   "display_name": "Python 3",
   "language": "python",
   "name": "python3"
  },
  "language_info": {
   "codemirror_mode": {
    "name": "ipython",
    "version": 3
   },
   "file_extension": ".py",
   "mimetype": "text/x-python",
   "name": "python",
   "nbconvert_exporter": "python",
   "pygments_lexer": "ipython3",
   "version": "3.6.6"
  }
 },
 "nbformat": 4,
 "nbformat_minor": 2
}
